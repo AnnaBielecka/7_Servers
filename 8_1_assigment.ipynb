{
  "cells": [
    {
      "cell_type": "markdown",
      "metadata": {
        "id": "2_R_Ya7UhcB8"
      },
      "source": [
        "# Assignment 8.1\n",
        "\n",
        "> Replace all TODOs with your code.\n",
        ">\n",
        "> Do not change any other code and do not add/remove cells!"
      ]
    },
    {
      "cell_type": "markdown",
      "metadata": {
        "id": "N1SWwMSshfVz"
      },
      "source": [
        "## Classes"
      ]
    },
    {
      "cell_type": "markdown",
      "metadata": {
        "id": "OY8NxJ-CiePg"
      },
      "source": [
        "### Task 1\n",
        "\n",
        "Define a Python class named `Interval` with the following specifications:\n",
        "\n",
        "1. The class should have a constructor (\\_\\_init__) that takes two parameters, start and end, and initializes the interval with these values.\n",
        "2. Ensure that both start and end are numeric (either integers or floats).\n",
        "3. Ensure that the start value is less than or equal to the end value.\n",
        "4. Provide a \\_\\_str__ method to return a string representation of the interval in the format \"[start, end]\"."
      ]
    },
    {
      "cell_type": "code",
      "execution_count": 17,
      "metadata": {
        "id": "VBFmFWDXjQPT",
        "colab": {
          "base_uri": "https://localhost:8080/"
        },
        "outputId": "f09d02b4-7c79-4017-9724-e2ec4aaa8d4f"
      },
      "outputs": [
        {
          "output_type": "stream",
          "name": "stdout",
          "text": [
            "Value Error: Start must be less than or equal to end.\n"
          ]
        }
      ],
      "source": [
        "class Interval:\n",
        "    def __init__(self, start, end):\n",
        "\n",
        "        # Перевіряємо, що обидва значення числові\n",
        "          if not (isinstance(start, (int, float)) and isinstance(end, (int, float))):\n",
        "              raise TypeError(\"Start and end must be numeric (int or float).\")\n",
        "\n",
        "         # Перевіряємо, що start <= end\n",
        "          if start > end:\n",
        "              raise ValueError(\"Start must be less than or equal to end.\")\n",
        "\n",
        "          self.start = start\n",
        "          self.end = end\n",
        "\n",
        "    def __str__(self):\n",
        "      return f\"[{self.start}, {self.end}]\"\n",
        "\n",
        "\n",
        "try:\n",
        "\n",
        "  interval = Interval(15, 5)\n",
        "  print(interval) # [1, 5]\n",
        "\n",
        "except ValueError as e:\n",
        "    print(f\"Value Error: {e}\")\n",
        "\n",
        "except TypeError as e:\n",
        "    print(f\"Type Error: {e}\")\n"
      ]
    },
    {
      "cell_type": "markdown",
      "metadata": {
        "id": "pJ72CYiylhIY"
      },
      "source": [
        "### Task 2\n",
        "\n",
        "Expand the Interval class by adding a method named `is_overlapping` that checks whether the current interval overlaps with another interval. The method should take another Interval object as a parameter and return `True` if there is an overlap and `False` otherwise."
      ]
    },
    {
      "cell_type": "code",
      "execution_count": 18,
      "metadata": {
        "id": "7t64cfMdl3qe",
        "colab": {
          "base_uri": "https://localhost:8080/"
        },
        "outputId": "a7591d21-6d03-43c5-9e21-8c12b1f21de5"
      },
      "outputs": [
        {
          "output_type": "stream",
          "name": "stdout",
          "text": [
            "Do intervals overlap? True\n"
          ]
        }
      ],
      "source": [
        "class Interval:\n",
        "    def __init__(self, start, end):\n",
        "        if not (isinstance(start, (int, float)) and isinstance(end, (int, float))):\n",
        "            raise TypeError(\"Start and end must be numeric (int or float).\")\n",
        "        if start > end:\n",
        "            raise ValueError(\"Start value must be less than or equal to end value.\")\n",
        "        self.start = start\n",
        "        self.end = end\n",
        "\n",
        "    def __str__(self):\n",
        "        return f\"[{self.start}, {self.end}]\"\n",
        "\n",
        "    def is_overlapping(self, other_interval):\n",
        "        if not isinstance(other_interval, Interval):\n",
        "            raise TypeError(\"The argument must be an instance of Interval.\")\n",
        "        # Перевірка на перекриття інтервалів\n",
        "        return not (self.end < other_interval.start or other_interval.end < self.start)\n",
        "\n",
        "interval1 = Interval(1, 5)\n",
        "interval2 = Interval(3, 8)\n",
        "\n",
        "overlap_result = interval1.is_overlapping(interval2)\n",
        "print(\"Do intervals overlap?\", overlap_result) # Do intervals overlap? True"
      ]
    },
    {
      "cell_type": "markdown",
      "metadata": {
        "id": "aelqtEfkni2N"
      },
      "source": [
        "### Task 3\n",
        "\n",
        "Expand the `Interval` class by adding a **static** method named `intersection_static` that calculates the intersection of two overlapping intervals. The static method should take two `Interval` objects as parameters and return a new `Interval` representing the intersection if there is one.\n",
        "\n",
        "The method should return `None` if the intervals do not overlap."
      ]
    },
    {
      "cell_type": "code",
      "execution_count": 19,
      "metadata": {
        "id": "E6DNMmTRoyNa",
        "colab": {
          "base_uri": "https://localhost:8080/"
        },
        "outputId": "8fbbb733-d7c0-407f-da32-8c151a415d05"
      },
      "outputs": [
        {
          "output_type": "stream",
          "name": "stdout",
          "text": [
            "Intersection result (static method): [3, 5]\n"
          ]
        }
      ],
      "source": [
        "class Interval:\n",
        "    def __init__(self, start, end):\n",
        "        if not (isinstance(start, (int, float)) and isinstance(end, (int, float))):\n",
        "            raise TypeError(\"Start and end must be numeric (int or float).\")\n",
        "        if start > end:\n",
        "            raise ValueError(\"Start value must be less than or equal to end value.\")\n",
        "        self.start = start\n",
        "        self.end = end\n",
        "\n",
        "    def __str__(self):\n",
        "        return f\"[{self.start}, {self.end}]\"\n",
        "\n",
        "    def is_overlapping(self, other_interval):\n",
        "        if not isinstance(other_interval, Interval):\n",
        "            raise TypeError(\"The argument must be an instance of Interval.\")\n",
        "        # Перевірка на перекриття інтервалів\n",
        "        return not (self.end < other_interval.start or other_interval.end < self.start)\n",
        "\n",
        "    @staticmethod\n",
        "    def intersection_static(interval1, interval2):\n",
        "       if not (isinstance(interval1, Interval) and isinstance(interval2, Interval)):\n",
        "            raise TypeError(\"Both arguments must be instances of Interval.\")\n",
        "\n",
        "      # Перевіряємо, чи перекриваються інтервали\n",
        "       if interval1.end < interval2.start or interval2.end < interval1.start:\n",
        "            return None\n",
        "\n",
        "        # Обчислюємо початок і кінець перетину\n",
        "       start = max(interval1.start, interval2.start)\n",
        "       end = min(interval1.end, interval2.end)\n",
        "\n",
        "       return Interval(start, end)\n",
        "\n",
        "interval1 = Interval(1, 5)\n",
        "interval2 = Interval(3, 8)\n",
        "\n",
        "intersection_result_static = Interval.intersection_static(interval1, interval2)\n",
        "print(\"Intersection result (static method):\", intersection_result_static) # Intersection result (static method): [3, 5]"
      ]
    },
    {
      "cell_type": "markdown",
      "metadata": {
        "id": "xGh7oQHFtsSl"
      },
      "source": [
        "### Task 4\n",
        "\n",
        "Expand the `Interval` class by overloading a math operator \"&\" to calculate the intersection of two overlapping intervals. Define the logic for the intersection using the method from the previous task."
      ]
    },
    {
      "cell_type": "code",
      "execution_count": 20,
      "metadata": {
        "id": "3f3CiUlGu1cq",
        "colab": {
          "base_uri": "https://localhost:8080/"
        },
        "outputId": "19f0f7fe-e70d-46b2-b0d1-3d94666c1266"
      },
      "outputs": [
        {
          "output_type": "stream",
          "name": "stdout",
          "text": [
            "Intersection result: [3, 5]\n"
          ]
        }
      ],
      "source": [
        "class Interval:\n",
        "    def __init__(self, start, end):\n",
        "        if not (isinstance(start, (int, float)) and isinstance(end, (int, float))):\n",
        "            raise TypeError(\"Start and end must be numeric (int or float).\")\n",
        "        if start > end:\n",
        "            raise ValueError(\"Start value must be less than or equal to end value.\")\n",
        "        self.start = start\n",
        "        self.end = end\n",
        "\n",
        "    def __str__(self):\n",
        "        return f\"[{self.start}, {self.end}]\"\n",
        "\n",
        "    def is_overlapping(self, other_interval):\n",
        "        if not isinstance(other_interval, Interval):\n",
        "            raise TypeError(\"The argument must be an instance of Interval.\")\n",
        "        # Перевірка на перекриття інтервалів\n",
        "        return not (self.end < other_interval.start or other_interval.end < self.start)\n",
        "\n",
        "    @staticmethod\n",
        "    def intersection_static(interval1, interval2):\n",
        "       if not (isinstance(interval1, Interval) and isinstance(interval2, Interval)):\n",
        "            raise TypeError(\"Both arguments must be instances of Interval.\")\n",
        "\n",
        "      # Перевіряємо, чи перекриваються інтервали\n",
        "       if interval1.end < interval2.start or interval2.end < interval1.start:\n",
        "            return None\n",
        "\n",
        "        # Обчислюємо початок і кінець перетину\n",
        "       start = max(interval1.start, interval2.start)\n",
        "       end = min(interval1.end, interval2.end)\n",
        "\n",
        "       return Interval(start, end)\n",
        "\n",
        "    # Перевантаження оператора &\n",
        "    def __and__(self, other):\n",
        "        if not isinstance(other, Interval):\n",
        "            raise TypeError(\"Operand must be an instance of Interval.\")\n",
        "\n",
        "        # Використовуємо метод intersection_static для обчислення перетину\n",
        "        return Interval.intersection_static(self, other)\n",
        "\n",
        "\n",
        "interval1 = Interval(1, 5)\n",
        "interval2 = Interval(3, 8)\n",
        "\n",
        "intersection_result = interval1 & interval2\n",
        "print(\"Intersection result:\", intersection_result) # Intersection result: [3, 5]"
      ]
    },
    {
      "cell_type": "markdown",
      "metadata": {
        "id": "51BGij2Tvoka"
      },
      "source": [
        "### Task 5\n",
        "\n",
        "Expand the `Interval` class by adding a static method named `union_static` that calculates the union of two overlapping intervals. The static method should take two Interval objects as parameters and return a new Interval representing the union if there is one.\n",
        "\n",
        "The method should return `None` if the intervals do not overlap."
      ]
    },
    {
      "cell_type": "code",
      "execution_count": 21,
      "metadata": {
        "id": "Xnm1CbK8v2v1",
        "colab": {
          "base_uri": "https://localhost:8080/"
        },
        "outputId": "ff8ee265-3dd4-4e1a-a36e-5f34618f0e32"
      },
      "outputs": [
        {
          "output_type": "stream",
          "name": "stdout",
          "text": [
            "Union Result (Static method): [1, 8]\n"
          ]
        }
      ],
      "source": [
        "class Interval:\n",
        "    def __init__(self, start, end):\n",
        "        if not (isinstance(start, (int, float)) and isinstance(end, (int, float))):\n",
        "            raise TypeError(\"Start and end must be numeric (int or float).\")\n",
        "        if start > end:\n",
        "            raise ValueError(\"Start value must be less than or equal to end value.\")\n",
        "        self.start = start\n",
        "        self.end = end\n",
        "\n",
        "    def __str__(self):\n",
        "        return f\"[{self.start}, {self.end}]\"\n",
        "\n",
        "    def is_overlapping(self, other_interval):\n",
        "        if not isinstance(other_interval, Interval):\n",
        "            raise TypeError(\"The argument must be an instance of Interval.\")\n",
        "        # Перевірка на перекриття інтервалів\n",
        "        return not (self.end < other_interval.start or other_interval.end < self.start)\n",
        "\n",
        "    @staticmethod\n",
        "    def intersection_static(interval1, interval2):\n",
        "       if not (isinstance(interval1, Interval) and isinstance(interval2, Interval)):\n",
        "            raise TypeError(\"Both arguments must be instances of Interval.\")\n",
        "\n",
        "      # Перевіряємо, чи перекриваються інтервали\n",
        "       if interval1.end < interval2.start or interval2.end < interval1.start:\n",
        "            return None\n",
        "\n",
        "        # Обчислюємо початок і кінець перетину\n",
        "       start = max(interval1.start, interval2.start)\n",
        "       end = min(interval1.end, interval2.end)\n",
        "\n",
        "       return Interval(start, end)\n",
        "\n",
        "    @staticmethod\n",
        "    def union_static(interval1, interval2):\n",
        "        if not (isinstance(interval1, Interval) and isinstance(interval2, Interval)):\n",
        "            raise TypeError(\"Both arguments must be instances of Interval.\")\n",
        "\n",
        "        # Перевірка на перетин\n",
        "        if interval1.end < interval2.start or interval2.end < interval1.start:\n",
        "            return None\n",
        "\n",
        "        # Обчислюємо об'єднання\n",
        "        start = min(interval1.start, interval2.start)\n",
        "        end = max(interval1.end, interval2.end)\n",
        "\n",
        "        return Interval(start, end)\n",
        "\n",
        "interval1 = Interval(1, 5)\n",
        "interval2 = Interval(3, 8)\n",
        "\n",
        "union_result_static = Interval.union_static(interval1, interval2)\n",
        "print(\"Union Result (Static method):\", union_result_static) # Union Result (Static method): [1, 8]"
      ]
    },
    {
      "cell_type": "markdown",
      "metadata": {
        "id": "5yGYlKjCwbzr"
      },
      "source": [
        "### Task 6\n",
        "\n",
        "Expand the `Interval` class by overloading a math operator \"|\" to calculate the union  of two overlapping intervals. Define the logic for the union using the method from the previous task."
      ]
    },
    {
      "cell_type": "code",
      "execution_count": 22,
      "metadata": {
        "id": "xjCgPAy5wu1Z",
        "colab": {
          "base_uri": "https://localhost:8080/"
        },
        "outputId": "9f2e69c3-ae33-43e4-e5df-16c653cdcedb"
      },
      "outputs": [
        {
          "output_type": "stream",
          "name": "stdout",
          "text": [
            "Union Result: [1, 8]\n"
          ]
        }
      ],
      "source": [
        "class Interval:\n",
        "    def __init__(self, start, end):\n",
        "        if not (isinstance(start, (int, float)) and isinstance(end, (int, float))):\n",
        "            raise TypeError(\"Start and end must be numeric (int or float).\")\n",
        "        if start > end:\n",
        "            raise ValueError(\"Start value must be less than or equal to end value.\")\n",
        "        self.start = start\n",
        "        self.end = end\n",
        "\n",
        "    def __str__(self):\n",
        "        return f\"[{self.start}, {self.end}]\"\n",
        "\n",
        "    def is_overlapping(self, other_interval):\n",
        "        if not isinstance(other_interval, Interval):\n",
        "            raise TypeError(\"The argument must be an instance of Interval.\")\n",
        "        # Перевірка на перекриття інтервалів\n",
        "        return not (self.end < other_interval.start or other_interval.end < self.start)\n",
        "\n",
        "    @staticmethod\n",
        "    def intersection_static(interval1, interval2):\n",
        "       if not (isinstance(interval1, Interval) and isinstance(interval2, Interval)):\n",
        "            raise TypeError(\"Both arguments must be instances of Interval.\")\n",
        "\n",
        "      # Перевіряємо, чи перекриваються інтервали\n",
        "       if interval1.end < interval2.start or interval2.end < interval1.start:\n",
        "            return None\n",
        "\n",
        "        # Обчислюємо початок і кінець перетину\n",
        "       start = max(interval1.start, interval2.start)\n",
        "       end = min(interval1.end, interval2.end)\n",
        "\n",
        "       return Interval(start, end)\n",
        "\n",
        "    @staticmethod\n",
        "    def union_static(interval1, interval2):\n",
        "        if not (isinstance(interval1, Interval) and isinstance(interval2, Interval)):\n",
        "            raise TypeError(\"Both arguments must be instances of Interval.\")\n",
        "\n",
        "        # Перевірка на перетин\n",
        "        if interval1.end < interval2.start or interval2.end < interval1.start:\n",
        "            return None\n",
        "\n",
        "        # Обчислюємо об'єднання\n",
        "        start = min(interval1.start, interval2.start)\n",
        "        end = max(interval1.end, interval2.end)\n",
        "\n",
        "        return Interval(start, end)\n",
        "\n",
        "    def __or__(self, other):\n",
        "        \"\"\"Перевантаження оператора | для об'єднання інтервалів.\"\"\"\n",
        "        if not isinstance(other, Interval):\n",
        "            raise TypeError(\"The operand must be an instance of Interval.\")\n",
        "\n",
        "        # Використовуємо логіку зі статичного методу union_static\n",
        "        return Interval.union_static(self, other)\n",
        "\n",
        "\n",
        "interval1 = Interval(1, 5)\n",
        "interval2 = Interval(3, 8)\n",
        "\n",
        "union_result = interval1 | interval2\n",
        "print(\"Union Result:\", union_result) # Union Result: [1, 8]"
      ]
    },
    {
      "cell_type": "markdown",
      "metadata": {
        "id": "N-hiSBEK0fbz"
      },
      "source": [
        "### Task 7 (optional)\n",
        "\n",
        "Expand the `Interval` class by overloading the \"-\" operator to calculate the difference between two intervals. The method should return a new `Interval` representing the portion of the first interval that is not in the second."
      ]
    },
    {
      "cell_type": "code",
      "execution_count": null,
      "metadata": {
        "id": "YZ5AqAXr002L"
      },
      "outputs": [],
      "source": [
        "class Interval:\n",
        "    # TODO: copy methods from the tasks before\n",
        "\n",
        "    # TODO\n",
        "\n",
        "\n",
        "interval1 = Interval(1, 5)\n",
        "interval2 = Interval(3, 8)\n",
        "\n",
        "print(\"Difference Result:\", interval1 - interval2) # Union Result: [1, 2]\n",
        "print(\"Difference Result:\", interval2 - interval1) # Union Result: [6, 8]"
      ]
    }
  ],
  "metadata": {
    "colab": {
      "provenance": [],
      "toc_visible": true
    },
    "kernelspec": {
      "display_name": "Python 3",
      "name": "python3"
    },
    "language_info": {
      "name": "python"
    }
  },
  "nbformat": 4,
  "nbformat_minor": 0
}